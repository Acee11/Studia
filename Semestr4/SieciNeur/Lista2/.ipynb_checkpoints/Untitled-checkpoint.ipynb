{
 "cells": [
  {
   "cell_type": "markdown",
   "metadata": {},
   "source": [
    "<font size=\"5\">Problem 4 solution</font> "
   ]
  },
  {
   "cell_type": "code",
   "execution_count": 1,
   "metadata": {
    "collapsed": false
   },
   "outputs": [
    {
     "name": "stdout",
     "output_type": "stream",
     "text": [
      "bull   |   Polish\n",
      "\n",
      "burro   |   Spanish\n",
      "\n",
      "kurczas   |   Polish\n",
      "\n",
      "pollo   |   Spanish\n",
      "\n",
      "litwo, ojczyzno moja, ty jesteś jak zdrowie   |   English\n",
      "\n",
      "dinero   |   English\n",
      "\n",
      "mama just killed a man put a gun against his head   |   Polish\n",
      "\n",
      "maradona es mas grande que pele   |   Spanish\n",
      "\n"
     ]
    }
   ],
   "source": [
    "import numpy as np\n",
    "\n",
    "phrases = ['bull', 'burro', 'kurczas', 'pollo', 'litwo, ojczyzno moja, ty jesteś jak zdrowie', 'dinero',\n",
    "           'mama just killed a man put a gun against his head', 'maradona es mas grande que pele']\n",
    "\n",
    "#'E' - English    'P' - Polish       'S' - Spanish\n",
    "prob = {\n",
    "    'E' : {\n",
    "        'a' : 0.0816,\n",
    "        'e' : 0.12702,\n",
    "        'i' : 0.06966,\n",
    "        'o' : 0.07507,\n",
    "        'u' : 0.02758,\n",
    "        'y' : 0.01974,\n",
    "        'other' : 0.59926\n",
    "    },\n",
    "    \n",
    "    'P' : {\n",
    "        'a' : 0.10503,\n",
    "        'e' : 0.07352,\n",
    "        'i' : 0.08328,\n",
    "        'o' : 0.02445,\n",
    "        'u' : 0.02062,\n",
    "        'y' : 0.03206,\n",
    "        'other' : 0.66104\n",
    "    },\n",
    "    \n",
    "    'S' : {\n",
    "        'a' : 0.11525,\n",
    "        'e' : 0.12181,\n",
    "        'i' : 0.06247,\n",
    "        'o' : 0.08683,\n",
    "        'u' : 0.02927,\n",
    "        'y' : 0.01008,\n",
    "        'other' : 0.57429\n",
    "    }\n",
    "}\n",
    "\n",
    "lang_prob = {\n",
    "    'E' : 1/3,\n",
    "    'P' : 1/3,\n",
    "    'S' : 1/3\n",
    "}\n",
    "\n",
    "l = {\n",
    "    'E' : 'English',\n",
    "    'P' : 'Polish',\n",
    "    'S' : 'Spanish'\n",
    "}\n",
    "#c - single character\n",
    "#L - language\n",
    "def P(c, L):\n",
    "    if c in prob[L]:\n",
    "        return prob[L][c]\n",
    "    else: return prob[L]['other']\n",
    "    \n",
    "def classify(D):\n",
    "    lang = ('', 0)\n",
    "    for L in prob:\n",
    "        x = lang_prob[L] * np.prod(np.array([P(w, L) for w in D]))\n",
    "        if x >= lang[1]:\n",
    "            lang = (L, x)\n",
    "    return lang[0]\n",
    "\n",
    "def log_classify(D):\n",
    "    lang = ('', -np.inf)\n",
    "    for L in prob:\n",
    "        x = np.log(lang_prob[L]) + np.sum(np.log(np.array([P(w, L) for w in D])))\n",
    "        if x >= lang[1]:\n",
    "            lang = (L, x)\n",
    "    return lang[0]\n",
    "\n",
    "for phrase in phrases:\n",
    "    print(\"%s   |   %s\\n\" % (phrase, l[log_classify(phrase)]))\n",
    "        \n",
    "    "
   ]
  },
  {
   "cell_type": "code",
   "execution_count": 2,
   "metadata": {
    "collapsed": false
   },
   "outputs": [
    {
     "name": "stdout",
     "output_type": "stream",
     "text": [
      "bull   |   English\n",
      "\n",
      "burro   |   English\n",
      "\n",
      "kurczas   |   English\n",
      "\n",
      "pollo   |   English\n",
      "\n",
      "litwo, ojczyzno moja, ty jesteś jak zdrowie   |   English\n",
      "\n",
      "dinero   |   English\n",
      "\n",
      "mama just killed a man put a gun against his head   |   Polish\n",
      "\n",
      "maradona es mas grande que pele   |   Spanish\n",
      "\n"
     ]
    }
   ],
   "source": [
    "lang_prob = {\n",
    "    'E' : 0.5,\n",
    "    'P' : 0.2,\n",
    "    'S' : 0.3\n",
    "}\n",
    "\n",
    "for phrase in phrases:\n",
    "    print(\"%s   |   %s\\n\" % (phrase, l[log_classify(phrase)]))"
   ]
  },
  {
   "cell_type": "code",
   "execution_count": 3,
   "metadata": {
    "collapsed": false
   },
   "outputs": [
    {
     "name": "stdout",
     "output_type": "stream",
     "text": [
      "ala ma kota   |   Spanish\n",
      "\n"
     ]
    }
   ],
   "source": [
    "phrase = 'ala ma kota'\n",
    "print(\"%s   |   %s\\n\" % (phrase ,l[log_classify(phrase)]))"
   ]
  },
  {
   "cell_type": "markdown",
   "metadata": {
    "collapsed": true
   },
   "source": [
    "<font size=\"5\">Problem 6 solution</font> "
   ]
  },
  {
   "cell_type": "code",
   "execution_count": 45,
   "metadata": {
    "collapsed": false
   },
   "outputs": [
    {
     "name": "stdout",
     "output_type": "stream",
     "text": [
      "Populating the interactive namespace from numpy and matplotlib\n"
     ]
    },
    {
     "data": {
      "text/plain": [
       "<matplotlib.legend.Legend at 0x7f484d7e5da0>"
      ]
     },
     "execution_count": 45,
     "metadata": {},
     "output_type": "execute_result"
    },
    {
     "data": {
      "image/png": "[encoded data removed]",
      "text/plain": [
       "<matplotlib.figure.Figure at 0x7f484d5f55c0>"
      ]
     },
     "metadata": {},
     "output_type": "display_data"
    }
   ],
   "source": [
    "%pylab inline\n",
    "\n",
    "n_range = [50, 100, 500, 1000]\n",
    "p_range = [0.4, 0.5]\n",
    "\n",
    "n = n_range[2]\n",
    "p = p_range[1]\n",
    "\n",
    "\n",
    "\n",
    "def L(p, n, x):\n",
    "    return p**x * (1-p)**(n-x)\n",
    "\n",
    "x = np.random.binomial(n, p)\n",
    "P = np.array(np.linspace(0.0, 1.0, n))\n",
    "Y = L(P, n, x)\n",
    "\n",
    "axvline(x=x/n, color = 'red', label = 'sample mean')\n",
    "plot(P, Y)\n",
    "legend(loc='upper right')"
   ]
  },
  {
   "cell_type": "code",
   "execution_count": null,
   "metadata": {
    "collapsed": true
   },
   "outputs": [],
   "source": []
  }
 ],
 "metadata": {
  "anaconda-cloud": {},
  "kernelspec": {
   "display_name": "Python [conda root]",
   "language": "python",
   "name": "conda-root-py"
  },
  "language_info": {
   "codemirror_mode": {
    "name": "ipython",
    "version": 3
   },
   "file_extension": ".py",
   "mimetype": "text/x-python",
   "name": "python",
   "nbconvert_exporter": "python",
   "pygments_lexer": "ipython3",
   "version": "3.5.2"
  }
 },
 "nbformat": 4,
 "nbformat_minor": 1
}
