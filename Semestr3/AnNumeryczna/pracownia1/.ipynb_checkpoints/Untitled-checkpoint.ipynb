{
 "cells": [
  {
   "cell_type": "markdown",
   "metadata": {},
   "source": [
    "Klasyczny wariant metody siecznych:"
   ]
  },
  {
   "cell_type": "code",
   "execution_count": 13,
   "metadata": {
    "collapsed": false
   },
   "outputs": [
    {
     "name": "stdout",
     "output_type": "stream",
     "text": [
      "2.86\n",
      "1.5\n",
      "0.56\n",
      "0.198\n",
      "0.0187\n",
      "0.000574\n",
      "1.72e-06\n",
      "1.57e-10\n",
      "4.28e-17\n",
      "1.07e-27\n",
      "7.28e-45\n",
      "1.24e-72\n",
      "1.44e-117\n",
      "2.83e-190\n",
      "6.46e-308\n"
     ]
    },
    {
     "name": "stderr",
     "output_type": "stream",
     "text": [
      "WARNING: Method definition secantMethod(Any, Any, Any, Any) in module Main at In[6]:4 overwritten at In[13]:4.\n",
      "WARNING: Method definition f(Any) in module Main at In[6]:13 overwritten at In[13]:13.\n"
     ]
    }
   ],
   "source": [
    "setprecision(10000)\n",
    "\n",
    "function secantMethod(f, a, b, iter)\n",
    "    for i = 1:iter\n",
    "        tmp = b\n",
    "        fb = f(b)\n",
    "        b = b - (fb*(b - a)) / (fb - f(a)) \n",
    "        a = tmp\n",
    "    end\n",
    "    return b\n",
    "end"
   ]
  },
  {
   "cell_type": "markdown",
   "metadata": {},
   "source": [
    "Metoda Newtona:"
   ]
  },
  {
   "cell_type": "code",
   "execution_count": 15,
   "metadata": {
    "collapsed": false
   },
   "outputs": [
    {
     "name": "stdout",
     "output_type": "stream",
     "text": [
      "1.14\n",
      "0.326\n",
      "0.0153\n",
      "3.71e-05\n",
      "2.19e-10\n",
      "7.65e-21\n",
      "9.3e-42\n",
      "1.38e-83\n",
      "3.02e-167\n",
      "1.45e-334\n",
      "3.35e-669\n"
     ]
    },
    {
     "name": "stderr",
     "output_type": "stream",
     "text": [
      "WARNING: Method definition newtonMethod(Any, Any, Any, Any) in module Main at In[14]:2 overwritten at In[15]:2.\n",
      "WARNING: Method definition df(Any) in module Main at In[14]:8 overwritten at In[15]:8.\n"
     ]
    }
   ],
   "source": [
    "function newtonMethod(f, df, a, iter)\n",
    "\tfor i = 1:iter\n",
    "\t\ta = a - (f(a)/df(a))\n",
    "\tend\n",
    "\treturn a\n",
    "end"
   ]
  },
  {
   "cell_type": "markdown",
   "metadata": {},
   "source": [
    "Metoda bisekcji:"
   ]
  },
  {
   "cell_type": "code",
   "execution_count": 17,
   "metadata": {
    "collapsed": false
   },
   "outputs": [
    {
     "name": "stdout",
     "output_type": "stream",
     "text": [
      "3.14\n",
      "0.142\n",
      "1.36\n",
      "0.608\n",
      "0.233\n",
      "0.0459\n",
      "0.0478\n",
      "0.000968\n",
      "0.0225\n",
      "0.0108\n",
      "0.00489\n",
      "0.00196\n",
      "0.000497\n",
      "0.000235\n",
      "0.000131\n",
      "5.21e-05\n",
      "3.94e-05\n",
      "6.35e-06\n",
      "1.65e-05\n",
      "5.09e-06\n",
      "6.28e-07\n"
     ]
    },
    {
     "name": "stderr",
     "output_type": "stream",
     "text": [
      "WARNING: Method definition bisectionMethod(Any, Any, Any, Any) in module Main at In[16]:2 overwritten at In[17]:2.\n"
     ]
    }
   ],
   "source": [
    "function bisectionMethod(f, a, b, iter)\n",
    "\tc = 0\n",
    "\tfor i = 1:iter\n",
    "\t\tc = (a + b) / 2\n",
    "\t\tfc = f(c)\n",
    "\t\tif(fc == 0)\n",
    "\t\t\treturn c\n",
    "\t\tend\n",
    "\t\tif(sign(f(a)) != sign(fc))\n",
    "\t\t\tb = c\n",
    "\t\telse\n",
    "\t\t\ta = c\n",
    "\t\tend\n",
    "\tend\t\n",
    "\treturn c\n",
    "end"
   ]
  },
  {
   "cell_type": "markdown",
   "metadata": {},
   "source": [
    "Testy:"
   ]
  },
  {
   "cell_type": "code",
   "execution_count": 18,
   "metadata": {
    "collapsed": false
   },
   "outputs": [
    {
     "name": "stderr",
     "output_type": "stream",
     "text": [
      "WARNING: Method definition f(Any) in module Main at In[13]:13 overwritten at In[18]:1.\n"
     ]
    },
    {
     "data": {
      "text/plain": [
       "f (generic function with 1 method)"
      ]
     },
     "execution_count": 18,
     "metadata": {},
     "output_type": "execute_result"
    }
   ],
   "source": [
    "f(x) = x*x - BigFloat(pi) * BigFloat(pi)\n",
    "df(x) = 2*x"
   ]
  },
  {
   "cell_type": "markdown",
   "metadata": {},
   "source": [
    "Wyniki dla metody siecznych:"
   ]
  },
  {
   "cell_type": "code",
   "execution_count": 23,
   "metadata": {
    "collapsed": false
   },
   "outputs": [
    {
     "name": "stdout",
     "output_type": "stream",
     "text": [
      "Iteracja 0:  2.86\n",
      "Iteracja 1:  1.5\n",
      "Iteracja 2:  0.56\n",
      "Iteracja 3:  0.198\n",
      "Iteracja 4:  0.0187\n",
      "Iteracja 5:  0.000574\n",
      "Iteracja 6:  1.72e-06\n",
      "Iteracja 7:  1.57e-10\n",
      "Iteracja 8:  4.28e-17\n",
      "Iteracja 9:  1.07e-27\n",
      "Iteracja 10:  7.28e-45\n",
      "Iteracja 11:  1.24e-72\n",
      "Iteracja 12:  1.44e-117\n",
      "Iteracja 13:  2.83e-190\n",
      "Iteracja 14:  6.46e-308\n"
     ]
    }
   ],
   "source": [
    "for k = 0:14\n",
    "    @printf \"Iteracja %d:  %.3g\\n\" k abs(secantMethod(f, BigFloat(0), BigFloat(6), k) - pi)\n",
    "end"
   ]
  },
  {
   "cell_type": "markdown",
   "metadata": {},
   "source": [
    "Wyniki dla metody newtona:"
   ]
  },
  {
   "cell_type": "code",
   "execution_count": 21,
   "metadata": {
    "collapsed": false
   },
   "outputs": [
    {
     "name": "stdout",
     "output_type": "stream",
     "text": [
      "Iteracja 0:  1.14\n",
      "Iteracja 1:  0.326\n",
      "Iteracja 2:  0.0153\n",
      "Iteracja 3:  3.71e-05\n",
      "Iteracja 4:  2.19e-10\n",
      "Iteracja 5:  7.65e-21\n",
      "Iteracja 6:  9.3e-42\n",
      "Iteracja 7:  1.38e-83\n",
      "Iteracja 8:  3.02e-167\n",
      "Iteracja 9:  1.45e-334\n",
      "Iteracja 10:  3.35e-669\n"
     ]
    }
   ],
   "source": [
    "for k = 0:10\n",
    "    @printf \"Iteracja %d:  %.3g\\n\" k abs(newtonMethod(f, df, BigFloat(2.0), k) - BigFloat(pi))\n",
    "end"
   ]
  },
  {
   "cell_type": "markdown",
   "metadata": {},
   "source": [
    "Wyniki dla metody bisekcji:"
   ]
  },
  {
   "cell_type": "code",
   "execution_count": 24,
   "metadata": {
    "collapsed": false
   },
   "outputs": [
    {
     "name": "stdout",
     "output_type": "stream",
     "text": [
      "Iteracja 0:  3.14\n",
      "Iteracja 1:  0.142\n",
      "Iteracja 2:  1.36\n",
      "Iteracja 3:  0.608\n",
      "Iteracja 4:  0.233\n",
      "Iteracja 5:  0.0459\n",
      "Iteracja 6:  0.0478\n",
      "Iteracja 7:  0.000968\n",
      "Iteracja 8:  0.0225\n",
      "Iteracja 9:  0.0108\n",
      "Iteracja 10:  0.00489\n",
      "Iteracja 11:  0.00196\n",
      "Iteracja 12:  0.000497\n",
      "Iteracja 13:  0.000235\n",
      "Iteracja 14:  0.000131\n",
      "Iteracja 15:  5.21e-05\n",
      "Iteracja 16:  3.94e-05\n",
      "Iteracja 17:  6.35e-06\n",
      "Iteracja 18:  1.65e-05\n",
      "Iteracja 19:  5.09e-06\n",
      "Iteracja 20:  6.28e-07\n"
     ]
    }
   ],
   "source": [
    "for k = 0:20\n",
    "    @printf \"Iteracja %d:  %.3g\\n\" k abs(bisectionMethod(f, BigFloat(0), BigFloat(6), k) - pi)\n",
    "end"
   ]
  },
  {
   "cell_type": "code",
   "execution_count": 36,
   "metadata": {
    "collapsed": false
   },
   "outputs": [
    {
     "name": "stderr",
     "output_type": "stream",
     "text": [
      "WARNING: Method definition g(Any) in module Main at In[32]:1 overwritten at In[36]:1.\n",
      "WARNING: Method definition dg(Any) in module Main at In[32]:2 overwritten at In[36]:2.\n"
     ]
    },
    {
     "data": {
      "text/plain": [
       "dg (generic function with 1 method)"
      ]
     },
     "execution_count": 36,
     "metadata": {},
     "output_type": "execute_result"
    }
   ],
   "source": [
    "g(x) = exp(-x) - sin(x)\n",
    "dg(x) = -exp(-x) - cos(x)"
   ]
  },
  {
   "cell_type": "markdown",
   "metadata": {},
   "source": [
    "Wyniki dla metody siecznych:"
   ]
  },
  {
   "cell_type": "code",
   "execution_count": 37,
   "metadata": {
    "collapsed": false
   },
   "outputs": [
    {
     "name": "stdout",
     "output_type": "stream",
     "text": [
      "Iteracja 0:  0.411\n",
      "Iteracja 1:  0.0901\n",
      "Iteracja 2:  0.0195\n",
      "Iteracja 3:  0.000727\n",
      "Iteracja 4:  5.61e-06\n",
      "Iteracja 5:  1.63e-09\n",
      "Iteracja 6:  3.67e-15\n",
      "Iteracja 7:  2.4e-24\n",
      "Iteracja 8:  3.53e-39\n",
      "Iteracja 9:  3.39e-63\n",
      "Iteracja 10:  4.79e-102\n",
      "Iteracja 11:  4.25e-137\n",
      "Iteracja 12:  4.25e-137\n",
      "Iteracja 13:  4.25e-137\n",
      "Iteracja 14:  4.25e-137\n"
     ]
    }
   ],
   "source": [
    "gzero = parse(BigFloat, \"0.588532743981861077432452045702903688531271516109030533319914299511672553307351427738524061576027409562153528176982466770293849745782743\")\n",
    "\n",
    "for k = 0:14\n",
    "    @printf \"Iteracja %d:  %.3g\\n\" k abs(secantMethod(g, BigFloat(0), BigFloat(1), k) - BigFloat(gzero))\n",
    "end"
   ]
  },
  {
   "cell_type": "markdown",
   "metadata": {},
   "source": [
    "Wyniki dla metody Newtona:"
   ]
  },
  {
   "cell_type": "code",
   "execution_count": 38,
   "metadata": {
    "collapsed": false
   },
   "outputs": [
    {
     "name": "stdout",
     "output_type": "stream",
     "text": [
      "Iteracja 0:  0.589\n",
      "Iteracja 1:  0.0885\n",
      "Iteracja 2:  0.00289\n",
      "Iteracja 3:  3.33e-06\n",
      "Iteracja 4:  4.44e-12\n",
      "Iteracja 5:  7.9e-24\n",
      "Iteracja 6:  2.5e-47\n",
      "Iteracja 7:  2.5e-94\n",
      "Iteracja 8:  4.25e-137\n",
      "Iteracja 9:  4.25e-137\n",
      "Iteracja 10:  4.25e-137\n"
     ]
    }
   ],
   "source": [
    "for k = 0:10\n",
    "    @printf \"Iteracja %d:  %.3g\\n\" k abs(newtonMethod(g, dg, BigFloat(0), k) - gzero)\n",
    "end"
   ]
  },
  {
   "cell_type": "markdown",
   "metadata": {},
   "source": [
    "Wyniki dla metody bisekcji:"
   ]
  },
  {
   "cell_type": "code",
   "execution_count": 39,
   "metadata": {
    "collapsed": false
   },
   "outputs": [
    {
     "name": "stdout",
     "output_type": "stream",
     "text": [
      "Iteracja 0:  0.589\n",
      "Iteracja 1:  0.0885\n",
      "Iteracja 2:  0.161\n",
      "Iteracja 3:  0.0365\n",
      "Iteracja 4:  0.026\n",
      "Iteracja 5:  0.00522\n",
      "Iteracja 6:  0.0104\n",
      "Iteracja 7:  0.0026\n",
      "Iteracja 8:  0.00131\n",
      "Iteracja 9:  0.000642\n",
      "Iteracja 10:  0.000334\n",
      "Iteracja 11:  0.000154\n",
      "Iteracja 12:  9.03e-05\n",
      "Iteracja 13:  3.18e-05\n",
      "Iteracja 14:  2.93e-05\n",
      "Iteracja 15:  1.25e-06\n",
      "Iteracja 16:  1.4e-05\n",
      "Iteracja 17:  6.38e-06\n",
      "Iteracja 18:  2.56e-06\n",
      "Iteracja 19:  6.58e-07\n",
      "Iteracja 20:  2.96e-07\n"
     ]
    }
   ],
   "source": [
    "for k = 0:20\n",
    "    @printf \"Iteracja %d:  %.3g\\n\" k abs(bisectionMethod(g, BigFloat(0), BigFloat(1), k) - gzero)\n",
    "end"
   ]
  },
  {
   "cell_type": "code",
   "execution_count": null,
   "metadata": {
    "collapsed": true
   },
   "outputs": [],
   "source": []
  },
  {
   "cell_type": "code",
   "execution_count": null,
   "metadata": {
    "collapsed": true
   },
   "outputs": [],
   "source": []
  },
  {
   "cell_type": "code",
   "execution_count": null,
   "metadata": {
    "collapsed": true
   },
   "outputs": [],
   "source": []
  },
  {
   "cell_type": "code",
   "execution_count": null,
   "metadata": {
    "collapsed": true
   },
   "outputs": [],
   "source": []
  },
  {
   "cell_type": "code",
   "execution_count": null,
   "metadata": {
    "collapsed": true
   },
   "outputs": [],
   "source": []
  },
  {
   "cell_type": "code",
   "execution_count": null,
   "metadata": {
    "collapsed": true
   },
   "outputs": [],
   "source": []
  },
  {
   "cell_type": "code",
   "execution_count": null,
   "metadata": {
    "collapsed": true
   },
   "outputs": [],
   "source": []
  },
  {
   "cell_type": "code",
   "execution_count": null,
   "metadata": {
    "collapsed": true
   },
   "outputs": [],
   "source": []
  },
  {
   "cell_type": "code",
   "execution_count": null,
   "metadata": {
    "collapsed": true
   },
   "outputs": [],
   "source": [
    "\n",
    "    "
   ]
  },
  {
   "cell_type": "code",
   "execution_count": null,
   "metadata": {
    "collapsed": true
   },
   "outputs": [],
   "source": []
  },
  {
   "cell_type": "code",
   "execution_count": null,
   "metadata": {
    "collapsed": true
   },
   "outputs": [],
   "source": []
  },
  {
   "cell_type": "code",
   "execution_count": null,
   "metadata": {
    "collapsed": true
   },
   "outputs": [],
   "source": []
  },
  {
   "cell_type": "code",
   "execution_count": null,
   "metadata": {
    "collapsed": true
   },
   "outputs": [],
   "source": []
  },
  {
   "cell_type": "code",
   "execution_count": null,
   "metadata": {
    "collapsed": true
   },
   "outputs": [],
   "source": []
  },
  {
   "cell_type": "code",
   "execution_count": null,
   "metadata": {
    "collapsed": true
   },
   "outputs": [],
   "source": []
  },
  {
   "cell_type": "code",
   "execution_count": null,
   "metadata": {
    "collapsed": true
   },
   "outputs": [],
   "source": []
  },
  {
   "cell_type": "code",
   "execution_count": null,
   "metadata": {
    "collapsed": true
   },
   "outputs": [],
   "source": []
  },
  {
   "cell_type": "code",
   "execution_count": null,
   "metadata": {
    "collapsed": true
   },
   "outputs": [],
   "source": []
  },
  {
   "cell_type": "code",
   "execution_count": null,
   "metadata": {
    "collapsed": true
   },
   "outputs": [],
   "source": []
  },
  {
   "cell_type": "code",
   "execution_count": null,
   "metadata": {
    "collapsed": true
   },
   "outputs": [],
   "source": []
  },
  {
   "cell_type": "code",
   "execution_count": null,
   "metadata": {
    "collapsed": true
   },
   "outputs": [],
   "source": []
  },
  {
   "cell_type": "code",
   "execution_count": null,
   "metadata": {
    "collapsed": true
   },
   "outputs": [],
   "source": []
  },
  {
   "cell_type": "code",
   "execution_count": null,
   "metadata": {
    "collapsed": true
   },
   "outputs": [],
   "source": []
  },
  {
   "cell_type": "code",
   "execution_count": null,
   "metadata": {
    "collapsed": true
   },
   "outputs": [],
   "source": []
  },
  {
   "cell_type": "code",
   "execution_count": null,
   "metadata": {
    "collapsed": true
   },
   "outputs": [],
   "source": []
  },
  {
   "cell_type": "code",
   "execution_count": null,
   "metadata": {
    "collapsed": true
   },
   "outputs": [],
   "source": []
  },
  {
   "cell_type": "code",
   "execution_count": null,
   "metadata": {
    "collapsed": true
   },
   "outputs": [],
   "source": []
  },
  {
   "cell_type": "code",
   "execution_count": null,
   "metadata": {
    "collapsed": true
   },
   "outputs": [],
   "source": []
  },
  {
   "cell_type": "code",
   "execution_count": null,
   "metadata": {
    "collapsed": true
   },
   "outputs": [],
   "source": []
  },
  {
   "cell_type": "code",
   "execution_count": null,
   "metadata": {
    "collapsed": true
   },
   "outputs": [],
   "source": []
  },
  {
   "cell_type": "code",
   "execution_count": null,
   "metadata": {
    "collapsed": true
   },
   "outputs": [],
   "source": []
  },
  {
   "cell_type": "code",
   "execution_count": null,
   "metadata": {
    "collapsed": true
   },
   "outputs": [],
   "source": []
  },
  {
   "cell_type": "code",
   "execution_count": 12,
   "metadata": {
    "collapsed": false
   },
   "outputs": [
    {
     "name": "stderr",
     "output_type": "stream",
     "text": [
      "WARNING: Method definition f(Any) in module Main at In[10]:1 overwritten at In[12]:1.\n"
     ]
    },
    {
     "data": {
      "text/plain": [
       "-3.22147028133444269457185189120574928155737174018801046747776214129359393361573"
      ]
     },
     "execution_count": 12,
     "metadata": {},
     "output_type": "execute_result"
    }
   ],
   "source": [
    "f(x) = sin(x) - 2*exp(x)\n",
    "Out[9](f, BigFloat(0), BigFloat(5), 10)"
   ]
  }
 ],
 "metadata": {
  "anaconda-cloud": {},
  "kernelspec": {
   "display_name": "Julia 0.5.0",
   "language": "julia",
   "name": "julia-0.5"
  },
  "language_info": {
   "file_extension": ".jl",
   "mimetype": "application/julia",
   "name": "julia",
   "version": "0.5.0"
  }
 },
 "nbformat": 4,
 "nbformat_minor": 1
}
