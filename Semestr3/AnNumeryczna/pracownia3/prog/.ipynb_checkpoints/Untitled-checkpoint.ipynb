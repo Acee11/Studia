{
 "cells": [
  {
   "cell_type": "code",
   "execution_count": 4,
   "metadata": {
    "collapsed": false
   },
   "outputs": [
    {
     "name": "stderr",
     "output_type": "stream",
     "text": [
      "WARNING: Method definition convert(Type{Main.LU}, Integer) in module Main at Enums.jl:79 overwritten at Enums.jl:79.\n",
      "WARNING: Method definition typemin(Type{Main.LU}) in module Main at Enums.jl:82 overwritten at Enums.jl:82.\n",
      "WARNING: Method definition typemax(Type{Main.LU}) in module Main at Enums.jl:83 overwritten at Enums.jl:83.\n",
      "WARNING: Method definition isless(Main.LU, Main.LU) in module Main at Enums.jl:84 overwritten at Enums.jl:84.\n",
      "WARNING: Method definition instances(Type{Main.LU}) in module Main at Enums.jl:86 overwritten at Enums.jl:86.\n",
      "WARNING: Method definition print(IO, Main.LU) in module Main at Enums.jl:89 overwritten at Enums.jl:89.\n",
      "WARNING: Method definition show(IO, Main.LU) in module Main at Enums.jl:96 overwritten at Enums.jl:96.\n",
      "WARNING: Method definition show(IO, Type{Main.LU}) in module Main at Enums.jl:105 overwritten at Enums.jl:105.\n",
      "WARNING: Method definition show(IO, Base.Multimedia.MIME{:text/plain}, Type{Main.LU}) in module Main at Enums.jl:108 overwritten at Enums.jl:108.\n",
      "WARNING: Method definition pei(Any, Any) in module Main at /home/wb/ace/code/Semestr3/AnNumeryczna/pracownia3/prog/program.jl:5 overwritten at /home/wb/ace/code/Semestr3/AnNumeryczna/pracownia3/prog/program.jl:20.\n",
      "WARNING: Method definition hilbert(Any) in module Main at /home/wb/ace/code/Semestr3/AnNumeryczna/pracownia3/prog/program.jl:13 overwritten at /home/wb/ace/code/Semestr3/AnNumeryczna/pracownia3/prog/program.jl:28.\n",
      "WARNING: Method definition hilbert(Any, Any) in module Main at /home/wb/ace/code/Semestr3/AnNumeryczna/pracownia3/prog/program.jl:13 overwritten at /home/wb/ace/code/Semestr3/AnNumeryczna/pracownia3/prog/program.jl:28.\n",
      "WARNING: Method definition cholesky(Array) in module Main at /home/wb/ace/code/Semestr3/AnNumeryczna/pracownia3/prog/program.jl:21 overwritten at /home/wb/ace/code/Semestr3/AnNumeryczna/pracownia3/prog/program.jl:36.\n",
      "WARNING: Method definition cholesky(Array, Any) in module Main at /home/wb/ace/code/Semestr3/AnNumeryczna/pracownia3/prog/program.jl:21 overwritten at /home/wb/ace/code/Semestr3/AnNumeryczna/pracownia3/prog/program.jl:36.\n",
      "WARNING: Method definition chol_solve(Any, Any) in module Main at /home/wb/ace/code/Semestr3/AnNumeryczna/pracownia3/prog/program.jl:43 overwritten at /home/wb/ace/code/Semestr3/AnNumeryczna/pracownia3/prog/program.jl:58.\n",
      "WARNING: Method definition diag_solve(Any, Any, Main.LU) in module Main at /home/wb/ace/code/Semestr3/AnNumeryczna/pracownia3/prog/program.jl:49 overwritten at /home/wb/ace/code/Semestr3/AnNumeryczna/pracownia3/prog/program.jl:64.\n"
     ]
    },
    {
     "data": {
      "text/plain": [
       "Float64"
      ]
     },
     "execution_count": 4,
     "metadata": {},
     "output_type": "execute_result"
    }
   ],
   "source": [
    "include(\"program.jl\")\n",
    "T = Float64"
   ]
  },
  {
   "cell_type": "markdown",
   "metadata": {},
   "source": [
    "Testy dla macierzy hilberta <br/>\n",
    "$H = [h_{ij}]$ <br/>\n",
    "$h_{ij} = \\frac{1}{i+j-1}$"
   ]
  },
  {
   "cell_type": "code",
   "execution_count": 24,
   "metadata": {
    "collapsed": false
   },
   "outputs": [
    {
     "ename": "LoadError",
     "evalue": "LoadError: DimensionMismatch(\"second dimension of A, 3, does not match length of x, 12\")\nwhile loading In[24], in expression starting on line 1",
     "output_type": "error",
     "traceback": [
      "LoadError: DimensionMismatch(\"second dimension of A, 3, does not match length of x, 12\")\nwhile loading In[24], in expression starting on line 1",
      "",
      " in gemv!(::Array{Float64,1}, ::Char, ::Array{Float64,2}, ::Array{Float64,1}) at ./linalg/matmul.jl:219",
      " in *(::Array{Float64,2}, ::Array{Float64,1}) at ./linalg/matmul.jl:80",
      " in macro expansion; at ./In[24]:4 [inlined]",
      " in anonymous at ./<missing>:?"
     ]
    }
   ],
   "source": [
    "for n in [3, 6, 9, 12]\n",
    "    H = hilbert(n) \n",
    "    realx = [T(k) for k = 1:n]\n",
    "    b = H*x\n",
    "    x = chol_solve(H, b)\n",
    "    @printf \"||b - Hx|| = %.3e\\n\" norm(b - H*x,2)\n",
    "end"
   ]
  },
  {
   "cell_type": "code",
   "execution_count": null,
   "metadata": {
    "collapsed": true
   },
   "outputs": [],
   "source": []
  }
 ],
 "metadata": {
  "anaconda-cloud": {},
  "kernelspec": {
   "display_name": "Julia 0.5.0",
   "language": "julia",
   "name": "julia-0.5"
  },
  "language_info": {
   "file_extension": ".jl",
   "mimetype": "application/julia",
   "name": "julia",
   "version": "0.5.0"
  }
 },
 "nbformat": 4,
 "nbformat_minor": 1
}
