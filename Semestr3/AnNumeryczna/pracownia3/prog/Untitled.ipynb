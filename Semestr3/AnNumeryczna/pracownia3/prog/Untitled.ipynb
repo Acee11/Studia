{
 "cells": [
  {
   "cell_type": "code",
   "execution_count": 1,
   "metadata": {
    "collapsed": false
   },
   "outputs": [
    {
     "data": {
      "text/plain": [
       "Float64"
      ]
     },
     "execution_count": 1,
     "metadata": {},
     "output_type": "execute_result"
    }
   ],
   "source": [
    "include(\"program.jl\")\n",
    "T = Float64"
   ]
  },
  {
   "cell_type": "markdown",
   "metadata": {},
   "source": [
    "Testy dla macierzy hilberta <br/>\n",
    "$H = [h_{ij}]$ <br/>\n",
    "$h_{ij} = \\frac{1}{i+j-1}$"
   ]
  },
  {
   "cell_type": "code",
   "execution_count": 2,
   "metadata": {
    "collapsed": false
   },
   "outputs": [
    {
     "name": "stdout",
     "output_type": "stream",
     "text": [
      "n = 3\n",
      "residuum = 0.000e+00\n",
      "błąd względny = 1.280e-14\n",
      "\n",
      "n = 6\n",
      "residuum = 4.441e-16\n",
      "błąd względny = 1.759e-10\n",
      "\n",
      "n = 9\n",
      "residuum = 1.662e-15\n",
      "błąd względny = 4.366e-06\n",
      "\n",
      "n = 11\n",
      "residuum = 2.391e-15\n",
      "błąd względny = 7.929e-03\n",
      "\n"
     ]
    }
   ],
   "source": [
    "for n in [3,6,9,11]\n",
    "    H = hilbert(n) \n",
    "    realx = [T(k) for k = 1:n]\n",
    "    b = H*realx\n",
    "    x = chol_solve(H, b)\n",
    "    @printf \"n = %d\\nresiduum = %.3e\\nbłąd względny = %.3e\\n\\n\" n norm(b - H*x,2) norm(x-realx)/norm(realx)\n",
    "    #@printf \"%d & %.3e & %.3e\\n\" n norm(b - H*x,2) norm(x-realx)/norm(realx)\n",
    "end"
   ]
  },
  {
   "cell_type": "markdown",
   "metadata": {},
   "source": [
    "Testy dla macierzy Pei <br/>\n",
    "$P = [p_{ij}]$ <br/>\n",
    "$p_{ii} = 1 + \\epsilon$ <br/>\n",
    "$p_{ij} = 1$ <br/>"
   ]
  },
  {
   "cell_type": "code",
   "execution_count": 3,
   "metadata": {
    "collapsed": false
   },
   "outputs": [
    {
     "name": "stdout",
     "output_type": "stream",
     "text": [
      "3 & 4.441e-16 & 1.549e-01\\\\ \\hline\n",
      "6 & 1.986e-15 & 2.125e-01\\\\ \\hline\n",
      "9 & 3.553e-15 & 8.231e-01\\\\ \\hline\n",
      "12 & 7.324e-15 & 1.046e+00\\\\ \\hline\n",
      "15 & 3.077e-15 & 1.209e+00\\\\ \\hline\n",
      "18 & 3.553e-15 & 1.216e+00\\\\ \\hline\n"
     ]
    }
   ],
   "source": [
    "ϵ = 1.000000000000001\n",
    "for n in [3,6,9,12,15,18]\n",
    "    P = pei(n, ϵ) \n",
    "    realx = [one(T) for k = 1:n]\n",
    "    b = P*realx\n",
    "    x = chol_solve(P, b)\n",
    "    #@printf \"n = %d\\nresiduum = %.3e\\nbłąd względny = %.3e\\n\\n\" n norm(b - P*x,2) norm(realx-x)/norm(realx)\n",
    "    @printf \"%d & %.3e & %.3e\\\\\\\\ \\\\hline\\n\" n norm(b - P*x,2) norm(realx-x)/norm(realx)\n",
    "end"
   ]
  },
  {
   "cell_type": "markdown",
   "metadata": {},
   "source": [
    "Przykład zastosowania rozkładu choleskiego w problemie najmniejszych kwadratów:<br/>\n",
    "Y - (lekko zaburzony) pomiar pewnej funkcji(w tym przypadku $sin(x) + x$)<br/>\n",
    "$w(x)$ - wielomian przybliżający(śrendiokwadratowo) dany pomiar\n"
   ]
  },
  {
   "cell_type": "code",
   "execution_count": 7,
   "metadata": {
    "collapsed": false
   },
   "outputs": [
    {
     "name": "stdout",
     "output_type": "stream",
     "text": [
      "w(x) = 0.933x + 0.533\n"
     ]
    }
   ],
   "source": [
    "N = 20\n",
    "f(x) = sin(x) + x\n",
    "X = linspace(-5, 5, N)\n",
    "Y = map(x ->sin(x) + x + rand(), X)\n",
    "M = [X ones(N)]\n",
    "A = transpose(M)*M\n",
    "xsol = chol_solve(A, transpose(M)*Y)\n",
    "@printf \"w(x) = %.3fx + %.3f\\n\" xsol[1] xsol[2]\n"
   ]
  },
  {
   "cell_type": "code",
   "execution_count": null,
   "metadata": {
    "collapsed": true
   },
   "outputs": [],
   "source": []
  }
 ],
 "metadata": {
  "anaconda-cloud": {},
  "kernelspec": {
   "display_name": "Julia 0.5.0",
   "language": "julia",
   "name": "julia-0.5"
  },
  "language_info": {
   "file_extension": ".jl",
   "mimetype": "application/julia",
   "name": "julia",
   "version": "0.5.0"
  }
 },
 "nbformat": 4,
 "nbformat_minor": 1
}
