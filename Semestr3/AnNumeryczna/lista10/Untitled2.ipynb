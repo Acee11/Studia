{
 "cells": [
  {
   "cell_type": "code",
   "execution_count": 1,
   "metadata": {
    "collapsed": true
   },
   "outputs": [],
   "source": [
    "include(\"test_functions.jl\")\n",
    "IJulia.clear_output()"
   ]
  },
  {
   "cell_type": "code",
   "execution_count": 3,
   "metadata": {
    "collapsed": false
   },
   "outputs": [
    {
     "data": {
      "text/plain": [
       "5-element Array{BigFloat,1}:\n",
       " 1.000000000000000000000000000000000000000    \n",
       " 9.000000000000000000000000000000000000000    \n",
       " 2.300000000000000000000000000000000000000e+01\n",
       " 9.300000000000000000000000000000000000000e+01\n",
       " 2.590000000000000000000000000000000000000e+02"
      ]
     },
     "execution_count": 3,
     "metadata": {},
     "output_type": "execute_result"
    }
   ],
   "source": [
    "Fl = BigFloat\n",
    "X = [0; 1; 12; 4; 6]\n",
    "Y = [1; 9; 23; 93; 259]\n",
    "X = map(Fl, X)\n",
    "Y = map(Fl, Y)"
   ]
  },
  {
   "cell_type": "code",
   "execution_count": 4,
   "metadata": {
    "collapsed": true
   },
   "outputs": [],
   "source": [
    "S = Array{Fl}(4,4)\n",
    "for i=1:4, j=1:4\n",
    "    S[i,j] = sum([X[k]^(i+j-2) for k = 1:4])\n",
    "end"
   ]
  },
  {
   "cell_type": "code",
   "execution_count": 5,
   "metadata": {
    "collapsed": true
   },
   "outputs": [],
   "source": [
    "T = Array{Fl}(4,1)\n",
    "for k = 1:4\n",
    "    T[k] = sum([Y[i]*(X[i]^(k-1)) for i = 1:4])\n",
    "end"
   ]
  },
  {
   "cell_type": "code",
   "execution_count": 6,
   "metadata": {
    "collapsed": false
   },
   "outputs": [
    {
     "data": {
      "text/plain": [
       "4×1 Array{BigFloat,2}:\n",
       "  9.999999999999999999999999999999998716272e-01\n",
       "  2.196969696969696969696969696969700976208e-01\n",
       "  8.475378787878787878787878787878787753452    \n",
       " -6.950757575757575757575757575757575680201e-01"
      ]
     },
     "execution_count": 6,
     "metadata": {},
     "output_type": "execute_result"
    }
   ],
   "source": [
    "A = \\(S,T)"
   ]
  },
  {
   "cell_type": "code",
   "execution_count": 7,
   "metadata": {
    "collapsed": false
   },
   "outputs": [
    {
     "data": {
      "text/plain": [
       "4×4 Array{BigFloat,2}:\n",
       " 4.000000000000000000000000000000000000000      …  1.793000000000000000000000000000000000000e+03\n",
       " 1.700000000000000000000000000000000000000e+01     2.099300000000000000000000000000000000000e+04\n",
       " 1.610000000000000000000000000000000000000e+02     2.498570000000000000000000000000000000000e+05\n",
       " 1.793000000000000000000000000000000000000e+03     2.990081000000000000000000000000000000000e+06"
      ]
     },
     "execution_count": 7,
     "metadata": {},
     "output_type": "execute_result"
    }
   ],
   "source": [
    "S"
   ]
  },
  {
   "cell_type": "code",
   "execution_count": null,
   "metadata": {
    "collapsed": true
   },
   "outputs": [],
   "source": []
  }
 ],
 "metadata": {
  "anaconda-cloud": {},
  "kernelspec": {
   "display_name": "Julia 0.5.0",
   "language": "julia",
   "name": "julia-0.5"
  },
  "language_info": {
   "file_extension": ".jl",
   "mimetype": "application/julia",
   "name": "julia",
   "version": "0.5.0"
  }
 },
 "nbformat": 4,
 "nbformat_minor": 1
}
